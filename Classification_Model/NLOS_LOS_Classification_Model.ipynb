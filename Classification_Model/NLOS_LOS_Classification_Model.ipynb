{
  "nbformat": 4,
  "nbformat_minor": 0,
  "metadata": {
    "colab": {
      "provenance": [],
      "gpuType": "T4"
    },
    "kernelspec": {
      "name": "python3",
      "display_name": "Python 3"
    },
    "language_info": {
      "name": "python"
    },
    "accelerator": "GPU"
  },
  "cells": [
    {
      "cell_type": "code",
      "source": [
        "import os\n",
        "import numpy as np\n",
        "import pandas as pd\n",
        "import tensorflow as tf\n",
        "from tensorflow.keras.layers import Input, Reshape, Conv1D, MaxPooling1D, Dense, Concatenate\n",
        "from tensorflow.keras.models import Model\n",
        "from sklearn.model_selection import train_test_split\n",
        "from sklearn.preprocessing import StandardScaler\n",
        "from sklearn.metrics import f1_score, classification_report\n",
        "import matplotlib.pyplot as plt"
      ],
      "metadata": {
        "id": "wSxGnrStqkrR"
      },
      "execution_count": 1,
      "outputs": []
    },
    {
      "cell_type": "code",
      "source": [
        "def import_from_files():\n",
        "    \"\"\"\n",
        "        Read .csv files and store data into an array\n",
        "        format: |NLOS|Measured range|FP_IDX|FP_AMP1|FP_AMP2|FP_AMP3|STDEV_NOISE|CIR_PWR|MAX_NOISE|RXPACC|CH|FRAME_LEN|PREAM_LEN|BITRATE|PRFR|CIR...|\n",
        "    \"\"\"\n",
        "    rootdir = '/content/drive/MyDrive/Colab Notebooks/UWB-localization-master/data/NLOSClassification/dataset'\n",
        "    output_arr = []\n",
        "    first = 1\n",
        "    for dirpath, dirnames, filenames in os.walk(rootdir):\n",
        "        for file in filenames:\n",
        "            filename = os.path.join(dirpath, file)\n",
        "            print(f\"Processing file: {filename}\")\n",
        "            df = pd.read_csv(filename, sep=',', header=0)\n",
        "            input_data = df.values\n",
        "\n",
        "            if first > 0:\n",
        "                first = 0\n",
        "                output_arr = input_data\n",
        "            else:\n",
        "                output_arr = np.vstack((output_arr, input_data))\n",
        "\n",
        "    return output_arr"
      ],
      "metadata": {
        "id": "JrFvdX4UqonC"
      },
      "execution_count": 2,
      "outputs": []
    },
    {
      "cell_type": "code",
      "source": [
        "    # Import raw data from folder with dataset\n",
        "    print(\"Importing dataset to numpy array\")\n",
        "    print(\"-------------------------------\")\n",
        "    data = import_from_files()\n",
        "    print(\"-------------------------------\")\n",
        "\n",
        "    # Print dimensions and data\n",
        "    print(f\"Number of samples in dataset: {len(data)}\")\n",
        "    print(f\"Length of one sample: {len(data[0])}\")\n",
        "    print(\"-------------------------------\")\n",
        "    print(\"Dataset Sample:\")\n",
        "    print(data[:5])  # Display the first 5 samples"
      ],
      "metadata": {
        "colab": {
          "base_uri": "https://localhost:8080/"
        },
        "id": "xJtjxgSeqqww",
        "outputId": "f3622b60-8d1b-4f1c-8169-ce098d24aeae"
      },
      "execution_count": 3,
      "outputs": [
        {
          "output_type": "stream",
          "name": "stdout",
          "text": [
            "Importing dataset to numpy array\n",
            "-------------------------------\n",
            "Processing file: /content/drive/MyDrive/Colab Notebooks/UWB-localization-master/data/NLOSClassification/dataset/uwb_dataset_part3.csv\n",
            "Processing file: /content/drive/MyDrive/Colab Notebooks/UWB-localization-master/data/NLOSClassification/dataset/uwb_dataset_part1.csv\n",
            "Processing file: /content/drive/MyDrive/Colab Notebooks/UWB-localization-master/data/NLOSClassification/dataset/uwb_dataset_part4.csv\n",
            "Processing file: /content/drive/MyDrive/Colab Notebooks/UWB-localization-master/data/NLOSClassification/dataset/uwb_dataset_part7.csv\n",
            "Processing file: /content/drive/MyDrive/Colab Notebooks/UWB-localization-master/data/NLOSClassification/dataset/uwb_dataset_part2.csv\n",
            "Processing file: /content/drive/MyDrive/Colab Notebooks/UWB-localization-master/data/NLOSClassification/dataset/uwb_dataset_part5.csv\n",
            "Processing file: /content/drive/MyDrive/Colab Notebooks/UWB-localization-master/data/NLOSClassification/dataset/uwb_dataset_part6.csv\n",
            "-------------------------------\n",
            "Number of samples in dataset: 42000\n",
            "Length of one sample: 1031\n",
            "-------------------------------\n",
            "Dataset Sample:\n",
            "[[  0.     1.55 748.   ... 477.   475.   512.  ]\n",
            " [  1.     1.7  750.   ... 133.   178.     0.  ]\n",
            " [  0.     3.2  748.   ... 251.   248.     0.  ]\n",
            " [  1.     7.61 743.   ... 477.   175.   256.  ]\n",
            " [  0.     1.59 751.   ... 218.   100.     0.  ]]\n"
          ]
        }
      ]
    },
    {
      "cell_type": "code",
      "source": [
        "# Assign columns to variables\n",
        "NLOS = data[:, 0]  # Target variable (1 if NLOS, 0 if LOS)\n",
        "Measured_range = data[:, 1]\n",
        "FP_IDX = data[:, 2]\n",
        "FP_AMP1 = data[:, 3]\n",
        "FP_AMP2 = data[:, 4]\n",
        "FP_AMP3 = data[:, 5]\n",
        "STDEV_NOISE = data[:, 6]\n",
        "CIR_PWR = data[:, 7]\n",
        "MAX_NOISE = data[:, 8]\n",
        "RXPACC = data[:, 9]\n",
        "CH = data[:, 10]\n",
        "FRAME_LEN = data[:, 11]\n",
        "PREAM_LEN = data[:, 12]\n",
        "BITRATE = data[:, 13]\n",
        "PRFR = data[:, 14]\n",
        "CIR = data[:, 15:]  # Assuming the CIR is in the remaining columns"
      ],
      "metadata": {
        "id": "hBcKVXe9q2fC"
      },
      "execution_count": 4,
      "outputs": []
    },
    {
      "cell_type": "code",
      "source": [
        "print(CIR)\n",
        "len(CIR[0])"
      ],
      "metadata": {
        "colab": {
          "base_uri": "https://localhost:8080/"
        },
        "id": "4fjRM6JLxlnv",
        "outputId": "7be4163c-cdb1-4c34-d03e-0a1f9da7a1ec"
      },
      "execution_count": 10,
      "outputs": [
        {
          "output_type": "stream",
          "name": "stdout",
          "text": [
            "[[145. 208. 525. ... 477. 475. 512.]\n",
            " [238. 244. 181. ... 133. 178.   0.]\n",
            " [ 93. 238. 214. ... 251. 248.   0.]\n",
            " ...\n",
            " [  9. 283. 311. ... 257. 316.   0.]\n",
            " [216. 450. 159. ... 258. 244.   0.]\n",
            " [262. 432. 146. ...  78. 160.   0.]]\n"
          ]
        },
        {
          "output_type": "execute_result",
          "data": {
            "text/plain": [
              "1016"
            ]
          },
          "metadata": {},
          "execution_count": 10
        }
      ]
    },
    {
      "cell_type": "code",
      "source": [
        "# Extract the first 500 elements\n",
        "first_500_elements = CIR[:499]\n",
        "\n",
        "# Compute the sum of the squares of the first 500 elements\n",
        "sum_of_squares = np.sum(np.square(first_500_elements))\n",
        "\n",
        "# Divide the sum of squares by 500\n",
        "result = sum_of_squares / 500\n",
        "\n",
        "print(\"The result is:\", result)"
      ],
      "metadata": {
        "colab": {
          "base_uri": "https://localhost:8080/"
        },
        "id": "8FTBG-3ZyRWs",
        "outputId": "44c053e4-4ee4-47a9-905d-fd60f40f754f"
      },
      "execution_count": 12,
      "outputs": [
        {
          "output_type": "stream",
          "name": "stdout",
          "text": [
            "The result is: 1462294548.502\n"
          ]
        }
      ]
    },
    {
      "cell_type": "code",
      "source": [
        " # Combine all features into two inputs\n",
        "X1 = np.column_stack((FP_IDX, FP_AMP1, FP_AMP2, FP_AMP3, STDEV_NOISE, CIR_PWR, MAX_NOISE, RXPACC, CH, FRAME_LEN, PREAM_LEN, BITRATE, PRFR))\n",
        "X2 = np.column_stack((Measured_range, CIR))  # Use CIR and measured distance the second input\n",
        "\n",
        "y = NLOS  # Target variable\n",
        "\n",
        "# Split the data into training and testing sets\n",
        "X1_train, X1_test, X2_train, X2_test, y_train, y_test = train_test_split(X1, X2, y, test_size=0.2, random_state=42)\n",
        "\n",
        "# Scale the input data\n",
        "scaler_1 = StandardScaler()\n",
        "scaler_2 = StandardScaler()\n",
        "X1_train = scaler_1.fit_transform(X1_train)\n",
        "X2_train = scaler_2.fit_transform(X2_train)\n",
        "X1_test = scaler_1.transform(X1_test)\n",
        "X2_test = scaler_2.transform(X2_test)\n"
      ],
      "metadata": {
        "id": "YqCB0jDTq7FZ"
      },
      "execution_count": null,
      "outputs": []
    },
    {
      "cell_type": "code",
      "source": [
        "# First Input and Model Branch\n",
        "input_1 = Input(shape=(13,))  # 14 features in X1\n",
        "dense_1 = Dense(128, activation='relu')(input_1)\n",
        "dense_2 = Dense(64, activation='relu')(dense_1)\n",
        "\n",
        "# Second Input and Model Branch\n",
        "input_2 = Input(shape=(len(CIR[0])+1,))\n",
        "reshape_2 = Reshape((len(CIR[0])+1, 1))(input_2)\n",
        "\n",
        "conv1_1 = Conv1D(64, kernel_size=3, activation='relu')(reshape_2)\n",
        "max_pool_1 = MaxPooling1D(pool_size=2)(conv1_1)\n",
        "\n",
        "conv1_2 = Conv1D(128, kernel_size=3, activation='relu')(max_pool_1)\n",
        "max_pool_2 = MaxPooling1D(pool_size=2)(conv1_2)\n",
        "\n",
        "flatten_1 = tf.keras.layers.Flatten()(max_pool_2)\n",
        "\n",
        "# Concatenate both branches\n",
        "concatenated = Concatenate()([dense_2, flatten_1])\n",
        "\n",
        "# Final Dense Layers\n",
        "output = Dense(1, activation='sigmoid')(concatenated)"
      ],
      "metadata": {
        "id": "oodpCBNwrVLK"
      },
      "execution_count": null,
      "outputs": []
    },
    {
      "cell_type": "code",
      "source": [
        "# Build and compile the model\n",
        "model = Model(inputs=[input_1, input_2], outputs=output)\n",
        "model.compile(optimizer='adam', loss='binary_crossentropy', metrics=['accuracy'])\n"
      ],
      "metadata": {
        "id": "2tdybSsRrV1A"
      },
      "execution_count": null,
      "outputs": []
    },
    {
      "cell_type": "code",
      "source": [
        "# Train the model and store training history\n",
        "history = model.fit([X1_train, X2_train], y_train, epochs=10, batch_size=32, validation_split=0.2)"
      ],
      "metadata": {
        "colab": {
          "base_uri": "https://localhost:8080/"
        },
        "id": "mJN9ao36rcFy",
        "outputId": "ace82cb8-3684-4048-d0d4-a3b3159acc50"
      },
      "execution_count": null,
      "outputs": [
        {
          "output_type": "stream",
          "name": "stdout",
          "text": [
            "Epoch 1/10\n",
            "\u001b[1m840/840\u001b[0m \u001b[32m━━━━━━━━━━━━━━━━━━━━\u001b[0m\u001b[37m\u001b[0m \u001b[1m12s\u001b[0m 8ms/step - accuracy: 0.8389 - loss: 0.3775 - val_accuracy: 0.8810 - val_loss: 0.2926\n",
            "Epoch 2/10\n",
            "\u001b[1m840/840\u001b[0m \u001b[32m━━━━━━━━━━━━━━━━━━━━\u001b[0m\u001b[37m\u001b[0m \u001b[1m6s\u001b[0m 7ms/step - accuracy: 0.8763 - loss: 0.2927 - val_accuracy: 0.8790 - val_loss: 0.2928\n",
            "Epoch 3/10\n",
            "\u001b[1m840/840\u001b[0m \u001b[32m━━━━━━━━━━━━━━━━━━━━\u001b[0m\u001b[37m\u001b[0m \u001b[1m6s\u001b[0m 7ms/step - accuracy: 0.8809 - loss: 0.2810 - val_accuracy: 0.8826 - val_loss: 0.2876\n",
            "Epoch 4/10\n",
            "\u001b[1m840/840\u001b[0m \u001b[32m━━━━━━━━━━━━━━━━━━━━\u001b[0m\u001b[37m\u001b[0m \u001b[1m6s\u001b[0m 7ms/step - accuracy: 0.8953 - loss: 0.2500 - val_accuracy: 0.8751 - val_loss: 0.3058\n",
            "Epoch 5/10\n",
            "\u001b[1m840/840\u001b[0m \u001b[32m━━━━━━━━━━━━━━━━━━━━\u001b[0m\u001b[37m\u001b[0m \u001b[1m6s\u001b[0m 7ms/step - accuracy: 0.9123 - loss: 0.2130 - val_accuracy: 0.8640 - val_loss: 0.3418\n",
            "Epoch 6/10\n",
            "\u001b[1m840/840\u001b[0m \u001b[32m━━━━━━━━━━━━━━━━━━━━\u001b[0m\u001b[37m\u001b[0m \u001b[1m11s\u001b[0m 7ms/step - accuracy: 0.9256 - loss: 0.1837 - val_accuracy: 0.8604 - val_loss: 0.3591\n",
            "Epoch 7/10\n",
            "\u001b[1m840/840\u001b[0m \u001b[32m━━━━━━━━━━━━━━━━━━━━\u001b[0m\u001b[37m\u001b[0m \u001b[1m6s\u001b[0m 7ms/step - accuracy: 0.9402 - loss: 0.1539 - val_accuracy: 0.8585 - val_loss: 0.4192\n",
            "Epoch 8/10\n",
            "\u001b[1m840/840\u001b[0m \u001b[32m━━━━━━━━━━━━━━━━━━━━\u001b[0m\u001b[37m\u001b[0m \u001b[1m10s\u001b[0m 7ms/step - accuracy: 0.9501 - loss: 0.1285 - val_accuracy: 0.8478 - val_loss: 0.4716\n",
            "Epoch 9/10\n",
            "\u001b[1m840/840\u001b[0m \u001b[32m━━━━━━━━━━━━━━━━━━━━\u001b[0m\u001b[37m\u001b[0m \u001b[1m7s\u001b[0m 8ms/step - accuracy: 0.9613 - loss: 0.1008 - val_accuracy: 0.8507 - val_loss: 0.4959\n",
            "Epoch 10/10\n",
            "\u001b[1m840/840\u001b[0m \u001b[32m━━━━━━━━━━━━━━━━━━━━\u001b[0m\u001b[37m\u001b[0m \u001b[1m6s\u001b[0m 7ms/step - accuracy: 0.9701 - loss: 0.0830 - val_accuracy: 0.8487 - val_loss: 0.5721\n"
          ]
        }
      ]
    },
    {
      "cell_type": "code",
      "source": [
        "# Evaluate the model on the test set\n",
        "test_loss, test_acc = model.evaluate([X1_test, X2_test], y_test)"
      ],
      "metadata": {
        "colab": {
          "base_uri": "https://localhost:8080/"
        },
        "id": "h694fp00re3Z",
        "outputId": "9b23aeb7-2503-499a-f0ff-a6141f4ef921"
      },
      "execution_count": null,
      "outputs": [
        {
          "output_type": "stream",
          "name": "stdout",
          "text": [
            "\u001b[1m263/263\u001b[0m \u001b[32m━━━━━━━━━━━━━━━━━━━━\u001b[0m\u001b[37m\u001b[0m \u001b[1m1s\u001b[0m 4ms/step - accuracy: 0.8513 - loss: 0.5470\n"
          ]
        }
      ]
    },
    {
      "cell_type": "code",
      "source": [
        "print(f'Test Loss: {test_loss}')\n",
        "print(f'Test Accuracy: {test_acc}')"
      ],
      "metadata": {
        "colab": {
          "base_uri": "https://localhost:8080/"
        },
        "id": "b33OU4gerhDh",
        "outputId": "412893c0-41c2-4d2b-9216-bdb2df76eba4"
      },
      "execution_count": null,
      "outputs": [
        {
          "output_type": "stream",
          "name": "stdout",
          "text": [
            "Test Loss: 0.5645352602005005\n",
            "Test Accuracy: 0.8455952405929565\n"
          ]
        }
      ]
    },
    {
      "cell_type": "code",
      "source": [
        "# Make predictions on the test set\n",
        "y_pred = (model.predict([X1_test, X2_test]) > 0.5).astype(int)\n",
        "\n",
        "# Calculate the F1 score\n",
        "f1 = f1_score(y_test, y_pred)\n",
        "print(f'F1 Score: {f1}')"
      ],
      "metadata": {
        "colab": {
          "base_uri": "https://localhost:8080/"
        },
        "id": "G1enxPY-SX1N",
        "outputId": "4434acf6-e120-45f7-e5dc-bd61cad56646"
      },
      "execution_count": null,
      "outputs": [
        {
          "output_type": "stream",
          "name": "stdout",
          "text": [
            "\u001b[1m263/263\u001b[0m \u001b[32m━━━━━━━━━━━━━━━━━━━━\u001b[0m\u001b[37m\u001b[0m \u001b[1m1s\u001b[0m 3ms/step\n",
            "F1 Score: 0.8456136174264969\n"
          ]
        }
      ]
    },
    {
      "cell_type": "code",
      "source": [
        "# Plotting training history\n",
        "plt.figure(figsize=(12, 4))\n",
        "\n",
        "# Plot loss\n",
        "plt.subplot(1, 2, 1)\n",
        "plt.plot(history.history['loss'], label='Training Loss')\n",
        "plt.plot(history.history['val_loss'], label='Validation Loss')\n",
        "plt.title('Loss')\n",
        "plt.xlabel('Epoch')\n",
        "plt.ylabel('Loss')\n",
        "plt.legend()\n",
        "\n",
        "# Plot accuracy\n",
        "plt.subplot(1, 2, 2)\n",
        "plt.plot(history.history['accuracy'], label='Training Accuracy')\n",
        "plt.plot(history.history['val_accuracy'], label='Validation Accuracy')\n",
        "plt.title('Accuracy')\n",
        "plt.xlabel('Epoch')\n",
        "plt.ylabel('Accuracy')\n",
        "plt.legend()\n",
        "\n",
        "# Show plots\n",
        "plt.show()"
      ],
      "metadata": {
        "id": "TXvaYjbn95Kn",
        "colab": {
          "base_uri": "https://localhost:8080/",
          "height": 410
        },
        "outputId": "b0f82d22-0a15-4fb1-cbe7-a16965d67684"
      },
      "execution_count": null,
      "outputs": [
        {
          "output_type": "display_data",
          "data": {
            "text/plain": [
              "<Figure size 1200x400 with 2 Axes>"
            ],
            "image/png": "[encoded data removed]"
          },
          "metadata": {}
        }
      ]
    }
  ]
}